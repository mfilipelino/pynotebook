{
  "nbformat": 4,
  "nbformat_minor": 0,
  "metadata": {
    "colab": {
      "name": "SummaryStatsAndWindowFunctions.ipynb",
      "provenance": [],
      "mount_file_id": "1Cnbleei5A02uebViB5H0Zny4FfR9TGGx",
      "authorship_tag": "ABX9TyOBfy9Rg1BGJC/g6B0JjEWi",
      "include_colab_link": true
    },
    "kernelspec": {
      "name": "python3",
      "display_name": "Python 3"
    },
    "language_info": {
      "name": "python"
    }
  },
  "cells": [
    {
      "cell_type": "markdown",
      "metadata": {
        "id": "view-in-github",
        "colab_type": "text"
      },
      "source": [
        "<a href=\"https://colab.research.google.com/github/mfilipelino/pynotebook/blob/main/SummaryStatsAndWindowFunctions.ipynb\" target=\"_parent\"><img src=\"https://colab.research.google.com/assets/colab-badge.svg\" alt=\"Open In Colab\"/></a>"
      ]
    },
    {
      "cell_type": "code",
      "metadata": {
        "colab": {
          "base_uri": "https://localhost:8080/"
        },
        "id": "qCXb1ymC2PCc",
        "outputId": "8da24383-59a7-4def-8ee2-e0aa8418f71e"
      },
      "source": [
        "!pip install pyspark==3.1.1 py4j==0.10.9 "
      ],
      "execution_count": 2,
      "outputs": [
        {
          "output_type": "stream",
          "text": [
            "Collecting pyspark==3.1.1\n",
            "\u001b[?25l  Downloading https://files.pythonhosted.org/packages/45/b0/9d6860891ab14a39d4bddf80ba26ce51c2f9dc4805e5c6978ac0472c120a/pyspark-3.1.1.tar.gz (212.3MB)\n",
            "\u001b[K     |████████████████████████████████| 212.3MB 76kB/s \n",
            "\u001b[?25hCollecting py4j==0.10.9\n",
            "\u001b[?25l  Downloading https://files.pythonhosted.org/packages/9e/b6/6a4fb90cd235dc8e265a6a2067f2a2c99f0d91787f06aca4bcf7c23f3f80/py4j-0.10.9-py2.py3-none-any.whl (198kB)\n",
            "\u001b[K     |████████████████████████████████| 204kB 41.5MB/s \n",
            "\u001b[?25hBuilding wheels for collected packages: pyspark\n",
            "  Building wheel for pyspark (setup.py) ... \u001b[?25l\u001b[?25hdone\n",
            "  Created wheel for pyspark: filename=pyspark-3.1.1-py2.py3-none-any.whl size=212767604 sha256=6180165c48147aaf3ed7dd95f2e786ac0bcd6064ecbb3e0c56c2f27adca1b361\n",
            "  Stored in directory: /root/.cache/pip/wheels/0b/90/c0/01de724414ef122bd05f056541fb6a0ecf47c7ca655f8b3c0f\n",
            "Successfully built pyspark\n",
            "Installing collected packages: py4j, pyspark\n",
            "Successfully installed py4j-0.10.9 pyspark-3.1.1\n"
          ],
          "name": "stdout"
        }
      ]
    },
    {
      "cell_type": "code",
      "metadata": {
        "colab": {
          "base_uri": "https://localhost:8080/"
        },
        "id": "gCgXAdyX2iCm",
        "outputId": "2d049444-9980-4d17-c06e-175b25b93c1c"
      },
      "source": [
        "from google.colab import drive\n",
        "drive.mount('/gdrive')\n",
        "%cd /gdrive"
      ],
      "execution_count": null,
      "outputs": [
        {
          "output_type": "stream",
          "text": [
            "Drive already mounted at /gdrive; to attempt to forcibly remount, call drive.mount(\"/gdrive\", force_remount=True).\n",
            "/gdrive\n"
          ],
          "name": "stdout"
        }
      ]
    },
    {
      "cell_type": "code",
      "metadata": {
        "id": "H565ui_J3LbK"
      },
      "source": [
        "from pyspark.sql import SparkSession\n",
        "from pyspark.sql.types import *\n",
        "from pyspark.sql.functions import *\n",
        "from pyspark.sql.window import Window\n",
        "\n",
        "\n",
        "spark = SparkSession.builder\\\n",
        "        .master(\"local[*]\")\\\n",
        "        .appName('pyspark_notebook')\\\n",
        "        .getOrCreate()"
      ],
      "execution_count": null,
      "outputs": []
    },
    {
      "cell_type": "code",
      "metadata": {
        "id": "hfEhnScm2tpf",
        "colab": {
          "base_uri": "https://localhost:8080/",
          "height": 198
        },
        "outputId": "e3b48ffa-037d-47ed-a892-e785f2c4f9e4"
      },
      "source": [
        "df_ecommerce = spark.read.format('csv') \\\n",
        "  .option('header', 'true') \\\n",
        "  .option('inferSchema', 'true') \\\n",
        "  .load('drive/MyDrive/datasets/summer.csv')\n",
        "\n",
        "df_ecommerce.createOrReplaceTempView('Summer')"
      ],
      "execution_count": 1,
      "outputs": [
        {
          "output_type": "error",
          "ename": "NameError",
          "evalue": "ignored",
          "traceback": [
            "\u001b[0;31m---------------------------------------------------------------------------\u001b[0m",
            "\u001b[0;31mNameError\u001b[0m                                 Traceback (most recent call last)",
            "\u001b[0;32m<ipython-input-1-893b3eac2a68>\u001b[0m in \u001b[0;36m<module>\u001b[0;34m()\u001b[0m\n\u001b[0;32m----> 1\u001b[0;31m \u001b[0mdf_ecommerce\u001b[0m \u001b[0;34m=\u001b[0m \u001b[0mspark\u001b[0m\u001b[0;34m.\u001b[0m\u001b[0mread\u001b[0m\u001b[0;34m.\u001b[0m\u001b[0mformat\u001b[0m\u001b[0;34m(\u001b[0m\u001b[0;34m'csv'\u001b[0m\u001b[0;34m)\u001b[0m   \u001b[0;34m.\u001b[0m\u001b[0moption\u001b[0m\u001b[0;34m(\u001b[0m\u001b[0;34m'header'\u001b[0m\u001b[0;34m,\u001b[0m \u001b[0;34m'true'\u001b[0m\u001b[0;34m)\u001b[0m   \u001b[0;34m.\u001b[0m\u001b[0moption\u001b[0m\u001b[0;34m(\u001b[0m\u001b[0;34m'inferSchema'\u001b[0m\u001b[0;34m,\u001b[0m \u001b[0;34m'true'\u001b[0m\u001b[0;34m)\u001b[0m   \u001b[0;34m.\u001b[0m\u001b[0mload\u001b[0m\u001b[0;34m(\u001b[0m\u001b[0;34m'drive/MyDrive/datasets/summer.csv'\u001b[0m\u001b[0;34m)\u001b[0m\u001b[0;34m\u001b[0m\u001b[0;34m\u001b[0m\u001b[0m\n\u001b[0m\u001b[1;32m      2\u001b[0m \u001b[0;34m\u001b[0m\u001b[0m\n\u001b[1;32m      3\u001b[0m \u001b[0mdf_ecommerce\u001b[0m\u001b[0;34m.\u001b[0m\u001b[0mcreateOrReplaceTempView\u001b[0m\u001b[0;34m(\u001b[0m\u001b[0;34m'Summer'\u001b[0m\u001b[0;34m)\u001b[0m\u001b[0;34m\u001b[0m\u001b[0;34m\u001b[0m\u001b[0m\n",
            "\u001b[0;31mNameError\u001b[0m: name 'spark' is not defined"
          ]
        }
      ]
    },
    {
      "cell_type": "code",
      "metadata": {
        "colab": {
          "base_uri": "https://localhost:8080/"
        },
        "id": "Dk2KlKvz3rou",
        "outputId": "b2516da9-d427-428b-bf86-5471726a9446"
      },
      "source": [
        "df_ecommerce.show()"
      ],
      "execution_count": null,
      "outputs": [
        {
          "output_type": "stream",
          "text": [
            "+---------+---------+--------------------+--------+--------------+---------+----------+--------------+\n",
            "|InvoiceNo|StockCode|         Description|Quantity|   InvoiceDate|UnitPrice|CustomerID|       Country|\n",
            "+---------+---------+--------------------+--------+--------------+---------+----------+--------------+\n",
            "|   536365|   85123A|WHITE HANGING HEA...|       6|12/1/2010 8:26|     2.55|     17850|United Kingdom|\n",
            "|   536365|    71053| WHITE METAL LANTERN|       6|12/1/2010 8:26|     3.39|     17850|United Kingdom|\n",
            "|   536365|   84406B|CREAM CUPID HEART...|       8|12/1/2010 8:26|     2.75|     17850|United Kingdom|\n",
            "|   536365|   84029G|KNITTED UNION FLA...|       6|12/1/2010 8:26|     3.39|     17850|United Kingdom|\n",
            "|   536365|   84029E|RED WOOLLY HOTTIE...|       6|12/1/2010 8:26|     3.39|     17850|United Kingdom|\n",
            "|   536365|    22752|SET 7 BABUSHKA NE...|       2|12/1/2010 8:26|     7.65|     17850|United Kingdom|\n",
            "|   536365|    21730|GLASS STAR FROSTE...|       6|12/1/2010 8:26|     4.25|     17850|United Kingdom|\n",
            "|   536366|    22633|HAND WARMER UNION...|       6|12/1/2010 8:28|     1.85|     17850|United Kingdom|\n",
            "|   536366|    22632|HAND WARMER RED P...|       6|12/1/2010 8:28|     1.85|     17850|United Kingdom|\n",
            "|   536367|    84879|ASSORTED COLOUR B...|      32|12/1/2010 8:34|     1.69|     13047|United Kingdom|\n",
            "|   536367|    22745|POPPY'S PLAYHOUSE...|       6|12/1/2010 8:34|      2.1|     13047|United Kingdom|\n",
            "|   536367|    22748|POPPY'S PLAYHOUSE...|       6|12/1/2010 8:34|      2.1|     13047|United Kingdom|\n",
            "|   536367|    22749|FELTCRAFT PRINCES...|       8|12/1/2010 8:34|     3.75|     13047|United Kingdom|\n",
            "|   536367|    22310|IVORY KNITTED MUG...|       6|12/1/2010 8:34|     1.65|     13047|United Kingdom|\n",
            "|   536367|    84969|BOX OF 6 ASSORTED...|       6|12/1/2010 8:34|     4.25|     13047|United Kingdom|\n",
            "|   536367|    22623|BOX OF VINTAGE JI...|       3|12/1/2010 8:34|     4.95|     13047|United Kingdom|\n",
            "|   536367|    22622|BOX OF VINTAGE AL...|       2|12/1/2010 8:34|     9.95|     13047|United Kingdom|\n",
            "|   536367|    21754|HOME BUILDING BLO...|       3|12/1/2010 8:34|     5.95|     13047|United Kingdom|\n",
            "|   536367|    21755|LOVE BUILDING BLO...|       3|12/1/2010 8:34|     5.95|     13047|United Kingdom|\n",
            "|   536367|    21777|RECIPE BOX WITH M...|       4|12/1/2010 8:34|     7.95|     13047|United Kingdom|\n",
            "+---------+---------+--------------------+--------+--------------+---------+----------+--------------+\n",
            "only showing top 20 rows\n",
            "\n"
          ],
          "name": "stdout"
        }
      ]
    },
    {
      "cell_type": "code",
      "metadata": {
        "colab": {
          "base_uri": "https://localhost:8080/"
        },
        "id": "X6JSoqfi3uIA",
        "outputId": "121d04a5-02bc-4407-975e-aa214275d1f7"
      },
      "source": [
        "query = \"\"\"\n",
        "SELECT\n",
        "  Country, COUNT(CustomerID), round(SUM(UnitPrice * Quantity), 2) as total\n",
        "FROM Ecommerce\n",
        "GROUP BY Country\n",
        "ORDER BY total\n",
        "\"\"\"\n",
        "spark.sql(query).show()\n"
      ],
      "execution_count": null,
      "outputs": [
        {
          "output_type": "stream",
          "text": [
            "+--------------------+-----------------+--------+\n",
            "|             Country|count(CustomerID)|   total|\n",
            "+--------------------+-----------------+--------+\n",
            "|        Saudi Arabia|               10|  131.17|\n",
            "|             Bahrain|               17|   548.4|\n",
            "|      Czech Republic|               30|  707.72|\n",
            "|                 RSA|               58| 1002.31|\n",
            "|              Brazil|               32|  1143.6|\n",
            "|  European Community|               61| 1291.75|\n",
            "|           Lithuania|               35| 1661.06|\n",
            "|             Lebanon|               45| 1693.88|\n",
            "|                 USA|              291| 1730.92|\n",
            "|United Arab Emirates|               68| 1902.28|\n",
            "|               Malta|              127| 2505.47|\n",
            "|              Canada|              151| 3666.38|\n",
            "|             Iceland|              182|  4310.0|\n",
            "|              Greece|              146| 4710.52|\n",
            "|         Unspecified|              244| 4749.79|\n",
            "|              Poland|              341| 7213.14|\n",
            "|              Israel|              250| 7907.82|\n",
            "|           Singapore|              229| 9120.39|\n",
            "|           Hong Kong|                0|10117.04|\n",
            "|             Austria|              401|10154.32|\n",
            "+--------------------+-----------------+--------+\n",
            "only showing top 20 rows\n",
            "\n"
          ],
          "name": "stdout"
        }
      ]
    },
    {
      "cell_type": "code",
      "metadata": {
        "colab": {
          "base_uri": "https://localhost:8080/"
        },
        "id": "ST_05Soo66TZ",
        "outputId": "2f7bd258-4d1c-40a3-ca14-b65dd0c7dbd8"
      },
      "source": [
        "query = \"\"\"\n",
        "SELECT \n",
        "  Country, Quantity, UnitPrice, ROUND((Quantity * UnitPrice), 2) as TotalPrice\n",
        "FROM Ecommerce\n",
        "WHERE Country = 'Brazil'\n",
        "\"\"\"\n",
        "spark.sql(query).show(100)"
      ],
      "execution_count": null,
      "outputs": [
        {
          "output_type": "stream",
          "text": [
            "+-------+--------+---------+----------+\n",
            "|Country|Quantity|UnitPrice|TotalPrice|\n",
            "+-------+--------+---------+----------+\n",
            "| Brazil|      16|    10.95|     175.2|\n",
            "| Brazil|      24|     2.55|      61.2|\n",
            "| Brazil|      24|     2.55|      61.2|\n",
            "| Brazil|      24|     2.55|      61.2|\n",
            "| Brazil|      10|     6.75|      67.5|\n",
            "| Brazil|      24|     3.39|     81.36|\n",
            "| Brazil|      24|     1.95|      46.8|\n",
            "| Brazil|      10|     1.65|      16.5|\n",
            "| Brazil|      12|     1.95|      23.4|\n",
            "| Brazil|      10|     1.65|      16.5|\n",
            "| Brazil|       3|     5.95|     17.85|\n",
            "| Brazil|       3|     5.95|     17.85|\n",
            "| Brazil|       3|     5.95|     17.85|\n",
            "| Brazil|       3|     5.95|     17.85|\n",
            "| Brazil|      12|     2.08|     24.96|\n",
            "| Brazil|      12|      2.1|      25.2|\n",
            "| Brazil|      10|     4.95|      49.5|\n",
            "| Brazil|      24|     1.25|      30.0|\n",
            "| Brazil|      24|     3.45|      82.8|\n",
            "| Brazil|       6|     2.89|     17.34|\n",
            "| Brazil|       6|     2.89|     17.34|\n",
            "| Brazil|      12|     1.25|      15.0|\n",
            "| Brazil|       6|     3.25|      19.5|\n",
            "| Brazil|       6|     6.75|      40.5|\n",
            "| Brazil|      24|     0.85|      20.4|\n",
            "| Brazil|       2|     8.25|      16.5|\n",
            "| Brazil|       2|     8.25|      16.5|\n",
            "| Brazil|       2|     8.25|      16.5|\n",
            "| Brazil|       2|     8.25|      16.5|\n",
            "| Brazil|       2|     8.25|      16.5|\n",
            "| Brazil|       2|     8.25|      16.5|\n",
            "| Brazil|      12|     1.65|      19.8|\n",
            "+-------+--------+---------+----------+\n",
            "\n"
          ],
          "name": "stdout"
        }
      ]
    },
    {
      "cell_type": "code",
      "metadata": {
        "id": "_sYal7FaIzCq"
      },
      "source": [
        ""
      ],
      "execution_count": null,
      "outputs": []
    }
  ]
}